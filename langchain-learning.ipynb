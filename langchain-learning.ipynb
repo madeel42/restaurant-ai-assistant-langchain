{
 "cells": [
  {
   "cell_type": "code",
   "id": "da40079a-c45c-43e4-89f3-9d7a6999de24",
   "metadata": {
    "ExecuteTime": {
     "end_time": "2025-08-06T20:42:31.447770Z",
     "start_time": "2025-08-06T20:42:31.442343Z"
    }
   },
   "source": [
    "from secret_key import gemni_key \n",
    "import os\n",
    "os.environ[\"GOOGLE_API_KEY\"] = gemni_key"
   ],
   "outputs": [],
   "execution_count": 5
  },
  {
   "cell_type": "code",
   "id": "c78fa7ed-2522-491f-b34a-362110e1c8b4",
   "metadata": {
    "ExecuteTime": {
     "end_time": "2025-08-06T20:42:34.220065Z",
     "start_time": "2025-08-06T20:42:31.956372Z"
    }
   },
   "source": [
    "from langchain_google_genai import ChatGoogleGenerativeAI\n",
    "llm = ChatGoogleGenerativeAI(model=\"gemini-1.5-flash\", temperature=0.6)\n",
    "response = llm.invoke(\"I want to open a restaurant for Indian food. Suggest a fancy name for this.just one name\")\n",
    "print(response.content)"
   ],
   "outputs": [
    {
     "name": "stdout",
     "output_type": "stream",
     "text": [
      "Masala & Mirch\n"
     ]
    }
   ],
   "execution_count": 6
  },
  {
   "cell_type": "code",
   "id": "8acc35f0-3137-40ab-9896-c7ad9d4f38d5",
   "metadata": {
    "ExecuteTime": {
     "end_time": "2025-08-06T20:42:34.281224Z",
     "start_time": "2025-08-06T20:42:34.244446Z"
    }
   },
   "source": [
    "from langchain.prompts import PromptTemplate\n",
    "promptsTemplate_name = PromptTemplate(input_variables = [\"cusine\"],template=\"I want to open a restaurant for {cusine} food. Suggest a fancy name for this.just one name\")\n",
    "promptsTemplate_name.format(cusine='pakistani')"
   ],
   "outputs": [
    {
     "data": {
      "text/plain": [
       "'I want to open a restaurant for pakistani food. Suggest a fancy name for this.just one name'"
      ]
     },
     "execution_count": 7,
     "metadata": {},
     "output_type": "execute_result"
    }
   ],
   "execution_count": 7
  },
  {
   "cell_type": "code",
   "id": "04eb3416-f210-4a18-a64a-58b73aa35a8b",
   "metadata": {
    "ExecuteTime": {
     "end_time": "2025-08-06T20:42:38.651655Z",
     "start_time": "2025-08-06T20:42:37.167632Z"
    }
   },
   "source": [
    "from langchain.chains import LLMChain\n",
    "chain = LLMChain(llm= llm, prompt= promptsTemplate_name)\n",
    "chain.run(\"indian\")"
   ],
   "outputs": [
    {
     "name": "stderr",
     "output_type": "stream",
     "text": [
      "/var/folders/c3/jggj2cf962n_4m1ff5t7mf600000gn/T/ipykernel_25000/116833178.py:2: LangChainDeprecationWarning: The class `LLMChain` was deprecated in LangChain 0.1.17 and will be removed in 1.0. Use :meth:`~RunnableSequence, e.g., `prompt | llm`` instead.\n",
      "  chain = LLMChain(llm= llm, prompt= promptsTemplate_name)\n",
      "/var/folders/c3/jggj2cf962n_4m1ff5t7mf600000gn/T/ipykernel_25000/116833178.py:3: LangChainDeprecationWarning: The method `Chain.run` was deprecated in langchain 0.1.0 and will be removed in 1.0. Use :meth:`~invoke` instead.\n",
      "  chain.run(\"indian\")\n"
     ]
    },
    {
     "data": {
      "text/plain": [
       "'Masala & Mirch'"
      ]
     },
     "execution_count": 8,
     "metadata": {},
     "output_type": "execute_result"
    }
   ],
   "execution_count": 8
  },
  {
   "cell_type": "code",
   "id": "bce03ff6-d350-4933-9d7a-dc635eecce45",
   "metadata": {
    "ExecuteTime": {
     "end_time": "2025-08-06T20:42:40.151832Z",
     "start_time": "2025-08-06T20:42:40.145720Z"
    }
   },
   "source": [
    "llm = ChatGoogleGenerativeAI(model=\"gemini-1.5-flash\", temperature=0.6)\n",
    "promptsTemplate_name = PromptTemplate(input_variables = [\"cusine\"],template=\"I want to open a restaurant for {cusine} food. Suggest a fancy name for this.just one name\")\n",
    "name_chain = LLMChain(llm= llm, prompt= promptsTemplate_name)\n",
    "\n",
    "promptsTemplate_name = PromptTemplate(input_variables = [\"resturant_name\"],template=\"Suggest some menu item for {resturant_name} food. separated by come , just give 3 to 4 item\")\n",
    "food_item_chain = LLMChain(llm= llm, prompt= promptsTemplate_name)"
   ],
   "outputs": [],
   "execution_count": 9
  },
  {
   "cell_type": "code",
   "id": "a817e264-6a59-4ece-b2b0-73702bc7a6a2",
   "metadata": {
    "ExecuteTime": {
     "end_time": "2025-08-06T20:42:45.924594Z",
     "start_time": "2025-08-06T20:42:43.711710Z"
    }
   },
   "source": [
    "from langchain.chains import SimpleSequentialChain\n",
    "\n",
    "chain = SimpleSequentialChain(chains = [name_chain,food_item_chain])\n",
    "response = chain.run(\"mexixco\")\n",
    "print(response)"
   ],
   "outputs": [
    {
     "name": "stdout",
     "output_type": "stream",
     "text": [
      "Cascada de Sabores (Waterfall of Flavors):  Spicy Shrimp Ceviche,  Carnitas Tacos al Pastor,  Aji Amarillo Chicken,  Yuca Fries with Chimichurri\n"
     ]
    }
   ],
   "execution_count": 10
  },
  {
   "cell_type": "code",
   "id": "c9b62654-181c-43ff-a8f4-2e27242a7f2c",
   "metadata": {
    "ExecuteTime": {
     "end_time": "2025-08-06T20:55:32.196657Z",
     "start_time": "2025-08-06T20:55:32.187168Z"
    }
   },
   "source": [
    "llm = ChatGoogleGenerativeAI(model=\"gemini-1.5-flash\", temperature=0.6)\n",
    "promptsTemplate_name = PromptTemplate(input_variables = [\"cuisine\"],template=\"I want to open a restaurant for {cuisine} food. Suggest a fancy name for this.just one name\")\n",
    "name_chain = LLMChain(llm= llm, prompt= promptsTemplate_name,output_key = \"restaurant_name\")\n",
    "\n",
    "promptsTemplate_name = PromptTemplate(input_variables = [\"restaurant_name\"],template=\"Suggest some menu item for {restaurant_name} food. separated by come , just give 3 to 4 item\")\n",
    "food_item_chain = LLMChain(llm= llm, prompt= promptsTemplate_name,output_key = \"menu_item\")"
   ],
   "outputs": [],
   "execution_count": 20
  },
  {
   "metadata": {
    "ExecuteTime": {
     "end_time": "2025-08-06T20:55:42.943241Z",
     "start_time": "2025-08-06T20:55:35.138786Z"
    }
   },
   "cell_type": "code",
   "source": [
    "from langchain.chains import SequentialChain\n",
    "\n",
    "chain = SequentialChain(\n",
    "    chains=[name_chain, food_item_chain],\n",
    "    input_variables=[\"cuisine\"],\n",
    "    output_variables=[\"restaurant_name\", \"menu_item\"]\n",
    ")\n",
    "\n",
    "result = chain.invoke({\"cuisine\": \"indian\"})\n",
    "print(result)"
   ],
   "id": "ae6e919d930173ae",
   "outputs": [
    {
     "name": "stdout",
     "output_type": "stream",
     "text": [
      "{'cuisine': 'indian', 'resturant_name': 'Masala & Mirch', 'menu_item': 'Butter Chicken, Rogan Josh, Saag Paneer, Vegetable Biryani'}\n"
     ]
    }
   ],
   "execution_count": 21
  },
  {
   "metadata": {},
   "cell_type": "code",
   "outputs": [],
   "execution_count": null,
   "source": "",
   "id": "894c14bd7d5052c3"
  }
 ],
 "metadata": {
  "kernelspec": {
   "display_name": "Python 3 (ipykernel)",
   "language": "python",
   "name": "python3"
  },
  "language_info": {
   "codemirror_mode": {
    "name": "ipython",
    "version": 3
   },
   "file_extension": ".py",
   "mimetype": "text/x-python",
   "name": "python",
   "nbconvert_exporter": "python",
   "pygments_lexer": "ipython3",
   "version": "3.13.5"
  }
 },
 "nbformat": 4,
 "nbformat_minor": 5
}
