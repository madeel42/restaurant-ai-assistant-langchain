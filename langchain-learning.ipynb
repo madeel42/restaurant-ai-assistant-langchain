{
 "cells": [
  {
   "cell_type": "code",
   "execution_count": 2,
   "id": "da40079a-c45c-43e4-89f3-9d7a6999de24",
   "metadata": {},
   "outputs": [],
   "source": [
    "from secret_key import gemni_key \n",
    "import os\n",
    "os.environ[\"GOOGLE_API_KEY\"] = gemni_key"
   ]
  },
  {
   "cell_type": "code",
   "execution_count": 4,
   "id": "c78fa7ed-2522-491f-b34a-362110e1c8b4",
   "metadata": {},
   "outputs": [
    {
     "name": "stdout",
     "output_type": "stream",
     "text": [
      "Masala & Mirch\n"
     ]
    }
   ],
   "source": [
    "from langchain_google_genai import ChatGoogleGenerativeAI\n",
    "llm = ChatGoogleGenerativeAI(model=\"gemini-1.5-flash\", temperature=0.6)\n",
    "response = llm.invoke(\"I want to open a restaurant for Indian food. Suggest a fancy name for this.just one name\")\n",
    "print(response.content)"
   ]
  },
  {
   "cell_type": "code",
   "execution_count": 11,
   "id": "8acc35f0-3137-40ab-9896-c7ad9d4f38d5",
   "metadata": {},
   "outputs": [
    {
     "data": {
      "text/plain": [
       "'I want to open a restaurant for pakistani food. Suggest a fancy name for this.just one name'"
      ]
     },
     "execution_count": 11,
     "metadata": {},
     "output_type": "execute_result"
    }
   ],
   "source": [
    "from langchain.prompts import PromptTemplate\n",
    "promptsTemplate_name = PromptTemplate(input_variables = [\"cusine\"],template=\"I want to open a restaurant for {cusine} food. Suggest a fancy name for this.just one name\")\n",
    "promptsTemplate_name.format(cusine='pakistani')"
   ]
  },
  {
   "cell_type": "code",
   "execution_count": 16,
   "id": "04eb3416-f210-4a18-a64a-58b73aa35a8b",
   "metadata": {},
   "outputs": [
    {
     "data": {
      "text/plain": [
       "'Masala & Mirch'"
      ]
     },
     "execution_count": 16,
     "metadata": {},
     "output_type": "execute_result"
    }
   ],
   "source": [
    "from langchain.chains import LLMChain\n",
    "chain = LLMChain(llm= llm, prompt= promptsTemplate_name)\n",
    "chain.run(\"indian\")"
   ]
  },
  {
   "cell_type": "code",
   "execution_count": 18,
   "id": "bce03ff6-d350-4933-9d7a-dc635eecce45",
   "metadata": {},
   "outputs": [],
   "source": [
    "llm = ChatGoogleGenerativeAI(model=\"gemini-1.5-flash\", temperature=0.6)\n",
    "promptsTemplate_name = PromptTemplate(input_variables = [\"cusine\"],template=\"I want to open a restaurant for {cusine} food. Suggest a fancy name for this.just one name\")\n",
    "name_chain = LLMChain(llm= llm, prompt= promptsTemplate_name)\n",
    "\n",
    "promptsTemplate_name = PromptTemplate(input_variables = [\"resturant_name\"],template=\"Suggest some menu item for {resturant_name} food. separated by come , just give 3 to 4 item\")\n",
    "food_item_chain = LLMChain(llm= llm, prompt= promptsTemplate_name)"
   ]
  },
  {
   "cell_type": "code",
   "execution_count": 21,
   "id": "a817e264-6a59-4ece-b2b0-73702bc7a6a2",
   "metadata": {},
   "outputs": [
    {
     "name": "stdout",
     "output_type": "stream",
     "text": [
      "Cascada de Sabores (Waterfall of Flavors):  Spicy Shrimp Ceviche,  Carnitas Tacos al Pastor,  Mojo-Marinated Pork Tenderloin,  Plantain Empanadas\n"
     ]
    }
   ],
   "source": [
    "from langchain.chains import SimpleSequentialChain\n",
    "\n",
    "chain = SimpleSequentialChain(chains = [name_chain,food_item_chain])\n",
    "response = chain.run(\"mexixco\")\n",
    "print(response)"
   ]
  },
  {
   "cell_type": "code",
   "execution_count": null,
   "id": "c9b62654-181c-43ff-a8f4-2e27242a7f2c",
   "metadata": {},
   "outputs": [],
   "source": []
  }
 ],
 "metadata": {
  "kernelspec": {
   "display_name": "Python [conda env:base] *",
   "language": "python",
   "name": "conda-base-py"
  },
  "language_info": {
   "codemirror_mode": {
    "name": "ipython",
    "version": 3
   },
   "file_extension": ".py",
   "mimetype": "text/x-python",
   "name": "python",
   "nbconvert_exporter": "python",
   "pygments_lexer": "ipython3",
   "version": "3.13.5"
  }
 },
 "nbformat": 4,
 "nbformat_minor": 5
}
